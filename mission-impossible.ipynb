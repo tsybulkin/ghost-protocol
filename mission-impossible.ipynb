{
 "cells": [
  {
   "cell_type": "markdown",
   "metadata": {},
   "source": [
    "## Mision Impossible: Ghost protocol\n",
    "Synthesizing optical illusion using homography transformations"
   ]
  },
  {
   "cell_type": "code",
   "execution_count": 1,
   "metadata": {},
   "outputs": [],
   "source": [
    "import numpy as np\n",
    "from PIL import Image, ImageDraw\n",
    "import cv2"
   ]
  },
  {
   "cell_type": "markdown",
   "metadata": {},
   "source": [
    "### 3D scene elements\n",
    "constances:\n",
    "    -coridor length L in meters\n",
    "    - coridor width W\n",
    "    - coridor height H\n",
    "    - doors comes in every 5 meters\n",
    "    - light in the center on every 3rd panel\n",
    "    \n",
    "ceiling - panels 1 x 1 meter\n",
    "\n",
    "floor - squares 0.5 x 0.5 meter - chess board\n",
    "\n",
    "global ref frame: y - goes along with coridor, z - goes up, the origin is in the left corner\n",
    "\n",
    "from the guard. The guard is at the coridor center."
   ]
  },
  {
   "cell_type": "code",
   "execution_count": 2,
   "metadata": {},
   "outputs": [],
   "source": [
    "floor_light = (112,128,144)  # slategrey\n",
    "floor_dark = (128, 128, 128) # grey\n",
    "walls_col = (200,190,160) # tan\n",
    "wall_dark_col = (190, 165, 135)\n",
    "ceiling_col = (190, 175, 165) # lightgrey\n",
    "light_col = (255, 255, 240) # ivory\n",
    "doors_col = (139,69,19) # sadlebrown\n",
    "darkbrown = (100, 60, 15)\n",
    "grey = (128, 128, 128)\n",
    "whitesmoke = (220, 220, 205)\n",
    "\n",
    "COR_W = 4\n",
    "COR_H = 3\n",
    "COR_L = 35\n",
    "DOOR_H = 2.1\n",
    "\n",
    "\n",
    "def init_poligons(guard, cor_L=COR_L, cor_W=COR_W, cor_H=COR_H):\n",
    "    the_wall = [(np.array([cor_W/2+0.5, cor_L, cor_H/2]),\n",
    "               [np.array([0, cor_L, 0]), np.array([0, cor_L, cor_H]), np.array([cor_W + 1, cor_L, cor_H]), \n",
    "                np.array([cor_W + 1, cor_L, 0]), np.array([0, cor_L, 0])], wall_dark_col, None)]\n",
    "    \n",
    "    floor = [ (np.array([i * 0.5 + 0.25, j * 0.5 + 0.25, 0]),\n",
    "               [np.array([i * 0.5, j * 0.5, 0]), np.array([i * 0.5+0.5, j * 0.5, 0]), np.array([i * 0.5 + 0.5, j * 0.5 + 0.5, 0]), \n",
    "                np.array([i * 0.5, j * 0.5 + 0.5, 0]), np.array([i * 0.5, j * 0.5, 0])], floor_light if (i+j)%2==0 else floor_dark, None) \n",
    "             for i in range(cor_W * 2) for j in range(cor_L * 2)] +\\\n",
    "    [(np.array([cor_W + 0.25, j * 0.5 + 0.25, 0]),\n",
    "               [np.array([cor_W, j * 0.5, 0]), np.array([cor_W + 0.5, j * 0.5, 0]), np.array([cor_W + 0.5, j * 0.5 + 0.5, 0]), \n",
    "                np.array([cor_W, j * 0.5 + 0.5, 0]), np.array([cor_W, j * 0.5, 0])], floor_light if (2*cor_W+j)%2==0 else floor_dark, None)\n",
    "            for j in range(2*(cor_L - cor_W), 2*cor_L)]\n",
    "    \n",
    "    ceiling = [ (np.array([i + 0.5, j + 0.5, cor_H]),\n",
    "               [np.array([i, j, cor_H]), np.array([i + 1, j, cor_H]), np.array([i + 1, j + 1, cor_H]), \n",
    "                np.array([i, j + 1, cor_H]), np.array([i, j, cor_H])], light_col if (0 < i < cor_W-1) and j%5==0 and j < cor_L-2 else ceiling_col, grey)\n",
    "                for i in range(cor_W) for j in range(cor_L)] +\\\n",
    "    [(np.array([cor_W + 0.5, j + 0.5, cor_H]),\n",
    "               [np.array([cor_W, j, cor_H]), np.array([cor_W + 1, j, cor_H]), np.array([cor_W + 1, j + 1, cor_H]), \n",
    "                np.array([cor_W, j + 1, cor_H]), np.array([cor_W, j, cor_H])], ceiling_col, grey)\n",
    "                for j in range(cor_L-cor_W, cor_L)]\n",
    "    \n",
    "    left_walls = [ (np.array([0, j + 0.5, cor_H/2]),\n",
    "               [np.array([0, j, 0]), np.array([0, j, cor_H]), np.array([0, j + 1, cor_H]), \n",
    "                np.array([0, j + 1, 0]), np.array([0, j, 0])], walls_col, None)  \n",
    "                for j in range(cor_L)]\n",
    "    right_walls = [ (np.array([cor_W, j + 0.5, cor_H/2]),\n",
    "               [np.array([cor_W, j, 0]), np.array([cor_W, j, cor_H]), np.array([cor_W, j + 1, cor_H]), \n",
    "                np.array([cor_W, j + 1, 0]), np.array([cor_W, j, 0])], walls_col, None)  \n",
    "                for j in range(cor_L - cor_W)]\n",
    "    \n",
    "    left_doors = [(np.array([0.01, j + 0.45, DOOR_H/2]),\n",
    "               [np.array([0.01, j, 0]), np.array([0.01, j, DOOR_H]), np.array([0.01, j + 0.9, DOOR_H]), \n",
    "                np.array([0.01, j + 0.9, 0]), np.array([0.01, j+0.9, 0]) ], doors_col, darkbrown)  \n",
    "                for j in range(1, cor_L-2) if j % 5==0]\n",
    "    \n",
    "    right_doors = [(np.array([cor_W-0.01, j + 0.45, DOOR_H/2]),\n",
    "               [np.array([cor_W-0.01, j, 0]), np.array([cor_W-0.01, j, DOOR_H]), np.array([cor_W-0.01, j + 0.9, DOOR_H]), \n",
    "                np.array([cor_W-0.01, j + 0.9, 0]), np.array([cor_W-0.01, j + 0.9, 0]) ], doors_col, darkbrown)  \n",
    "                for j in range(1, cor_L - cor_W - 2) if j % 5==0]\n",
    "    \n",
    "    polygons = the_wall + floor + ceiling + left_walls + right_walls + left_doors + right_doors\n",
    "    return sorted(polygons, key=lambda x: np.linalg.norm(x[0] - guard), reverse=True)"
   ]
  },
  {
   "cell_type": "code",
   "execution_count": 3,
   "metadata": {},
   "outputs": [],
   "source": [
    "# guard coords in global RF\n",
    "guard = (2.5, -0.001, 1.8)\n"
   ]
  },
  {
   "cell_type": "code",
   "execution_count": 4,
   "metadata": {},
   "outputs": [
    {
     "name": "stdout",
     "output_type": "stream",
     "text": [
      "790 polygons\n"
     ]
    }
   ],
   "source": [
    "# some polygons verification\n",
    "polygons = init_poligons(guard=guard)\n",
    "for c, pol, col, _ in polygons:\n",
    "    if np.linalg.norm(np.array(pol[:-1]).mean(axis=0) - c ) > 0.01:\n",
    "        print(c, pol, col)\n",
    "        \n",
    "print(len(polygons), \"polygons\")"
   ]
  },
  {
   "cell_type": "code",
   "execution_count": 5,
   "metadata": {},
   "outputs": [],
   "source": [
    "# camera is always directed along Y-axis of global RF\n",
    "def get_camera_matrix(loc, img_size, focal):\n",
    "    px, py = np.array(img_size) / 2\n",
    "    K = np.array([[focal, 0, px],\n",
    "                 [0, focal, py],\n",
    "                 [0,     0,  1]])\n",
    "\n",
    "    T =  np.array(loc)\n",
    "    R = np.array([[1, 0, 0],\n",
    "                 [0, 0, 1],\n",
    "                 [0, -1, 0]])\n",
    "    RT = np.hstack([R.T, -np.array([R.T.dot(loc)]).T])\n",
    "    return K.dot(RT)\n",
    "    "
   ]
  },
  {
   "cell_type": "code",
   "execution_count": 6,
   "metadata": {},
   "outputs": [],
   "source": [
    "def get_point_proj_on_screen(x, z, Ls, guard):\n",
    "    # finds projection on screen of a point (x, Lw, z)\n",
    "    # screen is at Ls distance from the guard\n",
    "#     print(screen_px_per_meter)\n",
    "    xg, _, zg = guard\n",
    "    px = xg + Ls * (x - xg) / COR_L\n",
    "    py = COR_H - zg - Ls * (z - zg) / COR_L\n",
    "    return np.array([px, py]) "
   ]
  },
  {
   "cell_type": "code",
   "execution_count": 7,
   "metadata": {},
   "outputs": [],
   "source": [
    "def get_homo_coeffs(pts_dst, pts_src):\n",
    "    h, status = cv2.findHomography(pts_dst, pts_src)\n",
    "    \n",
    "    return np.reshape(h, (9,))[:-1]"
   ]
  },
  {
   "cell_type": "code",
   "execution_count": 8,
   "metadata": {},
   "outputs": [],
   "source": [
    "def assemble_image(im_src, src_polygons, dst_polygons, screen_size):\n",
    "    dst_img = Image.new('RGBA', tuple(screen_size), color=whitesmoke)\n",
    "    for src, dst in zip(src_polygons, dst_polygons):\n",
    "        coeffs = get_homo_coeffs(dst, src)\n",
    "        img_dst = im_src.transform(tuple(screen_size), Image.PERSPECTIVE, coeffs, Image.BICUBIC)\n",
    "#         display(img_dst)\n",
    "        \n",
    "        mask = Image.new('L', img_dst.size, color=255)\n",
    "        draw = ImageDraw.Draw(mask)\n",
    "        for poly in dst_polygons:\n",
    "            if (poly == dst).all():\n",
    "                continue\n",
    "            # mask other parts od the image\n",
    "            transparent_area = [ tuple(arr) for arr in poly ]\n",
    "            draw.polygon(transparent_area, fill = 0)\n",
    "            img_dst.putalpha(mask)\n",
    "#         display(img_dst)\n",
    "        dst_img.paste(img_dst, (0, 0), img_dst)\n",
    "\n",
    "    return dst_img"
   ]
  },
  {
   "cell_type": "code",
   "execution_count": 9,
   "metadata": {},
   "outputs": [],
   "source": [
    "def get_projected_image(guard, source_img, corners, screen_size, cm, distance_to_screen):\n",
    "    uvw = cm.dot(corners)\n",
    "    p5, p6, p7, p8 = (uvw[:2] / uvw[2]).T\n",
    "#     print(\"src_img:\", p5,p6,p7,p8)\n",
    "    \n",
    "    p1, p2 = np.array([0, screen_size[1]]),  np.array([0, 0])\n",
    "    p3, p4 = np.array([screen_size[0], 0]), screen_size\n",
    "    \n",
    "    src_polygons = [\n",
    "        np.array([p1, p2, p6, p5]), np.array([p2, p3, p7, p6]), np.array([p3, p4, p8, p7]),\n",
    "        np.array([p4, p1, p5, p8]), np.array([p5, p6, p7, p8])\n",
    "    ]\n",
    "    \n",
    "    ## destination\n",
    "    p6 = get_point_proj_on_screen(0, COR_H, distance_to_screen, guard) * screen_size / np.array([COR_W, COR_H])\n",
    "    p5 = get_point_proj_on_screen(0, 0, distance_to_screen, guard) * screen_size / np.array([COR_W, COR_H])\n",
    "    p7 = get_point_proj_on_screen(COR_W, COR_H, distance_to_screen, guard) * screen_size / np.array([COR_W, COR_H])\n",
    "    p8 = get_point_proj_on_screen(COR_W, 0, distance_to_screen, guard) * screen_size / np.array([COR_W, COR_H])\n",
    "#     print(p5,p6,p7,p8)\n",
    "    \n",
    "    dst_polygons = [\n",
    "        np.array([np.array([0, screen_size[1]]), np.array([0, 0]), p6, p5]),\n",
    "        np.array([np.array([0, 0]), np.array([screen_size[0], 0]), p7, p6]),\n",
    "        np.array([np.array([screen_size[0], 0]), screen_size, p8, p7]),\n",
    "        np.array([screen_size, np.array([0, screen_size[1]]), p5, p8]),\n",
    "        np.array([p5, p6, p7, p8])\n",
    "    ]\n",
    "    return assemble_image(source_img, src_polygons, dst_polygons, screen_size)\n",
    "    \n"
   ]
  },
  {
   "cell_type": "code",
   "execution_count": 10,
   "metadata": {},
   "outputs": [],
   "source": [
    "def get_camera_image(camera_loc, img_size, focal):\n",
    "    cm = get_camera_matrix(camera_loc, img_size, focal)\n",
    "    im = Image.new(\"RGB\", img_size, (0,0,0))\n",
    "    draw = ImageDraw.Draw(im)\n",
    "    polys = polygons[:]\n",
    "    polys = sorted(polys,  key=lambda x: np.linalg.norm(x[0] - guard), reverse=True)    \n",
    "        \n",
    "    for _,poly,color,stroke in polys:\n",
    "        pixs = [cm.dot(np.hstack([p, 1])) for p in poly]\n",
    "        if (np.array(pixs)[:, 2] > 0).all():\n",
    "            draw.polygon([ (u/w, v/w) for u,v,w in pixs ], fill=color, outline=stroke)\n",
    "    return im"
   ]
  },
  {
   "cell_type": "code",
   "execution_count": 11,
   "metadata": {},
   "outputs": [],
   "source": [
    "def create_view(guard, dist_to_screen=None, project=False, img_size=(1200, 600), focal=800):\n",
    "    guard_view = get_camera_image(guard, img_size, focal)\n",
    "    \n",
    "    if project and dist_to_screen:\n",
    "        d = 0.001\n",
    "        cam = (COR_W / 2, dist_to_screen - COR_W / 8, COR_H / 2)\n",
    "        screen_size = (1600, 1200)\n",
    "        cam_focal = 200\n",
    "        source_img = get_camera_image(cam, screen_size, focal=cam_focal)\n",
    "#         display(source_img)\n",
    "        \n",
    "        screen = [np.array([d, dist_to_screen, d]), np.array([d, dist_to_screen, COR_H - d]), \n",
    "                np.array([COR_W - d, dist_to_screen, COR_H - d]), np.array([COR_W - d, dist_to_screen, d]), \n",
    "                  np.array([d, dist_to_screen, d])]\n",
    "        center = np.array(screen[:-1]).mean(axis=0)\n",
    "        \n",
    "        cm = get_camera_matrix(cam, screen_size, focal=cam_focal)\n",
    "        pixs = [ cm.dot(np.hstack([p, 1])) for p in screen]\n",
    "        proj_pixs = [ np.array([u/w, v/w]) for u,v,w in pixs ]\n",
    "               \n",
    "        wall = [np.array([0, COR_L, 0]), np.array([0, COR_L, COR_H]), np.array([COR_W, COR_L, COR_H]),\n",
    "                np.array([COR_W, COR_L, 0]) ]\n",
    "        corners = np.vstack([np.array(wall).T, np.ones((1,4))])    \n",
    "        proj_img = get_projected_image(guard, source_img, corners, screen_size, cm, dist_to_screen)\n",
    "#         display(proj_img)\n",
    "#         print(\"proj_img size:\", proj_img.size)\n",
    "            \n",
    "        guard_cam = get_camera_matrix(guard, img_size, focal=focal)\n",
    "        pixs = [ guard_cam.dot(np.hstack([p, 1])) for p in screen]\n",
    "        proj_pixs = [ np.array([u/w, v/w]) for u,v,w in pixs ]\n",
    "        \n",
    "        xy_min = np.array(proj_pixs).min(axis=0)\n",
    "        xy_max = np.array(proj_pixs).max(axis=0)\n",
    "        screen_size_on_guard_img = (xy_max - xy_min).astype('int')\n",
    "        img = proj_img.resize(tuple(screen_size_on_guard_img), Image.ANTIALIAS)\n",
    "#         print(np.array(img).shape)\n",
    "        if np.random.random() > 0.07:\n",
    "            guard_view.paste(img, tuple(xy_min.astype('int')), img)\n",
    "        else:\n",
    "            overlay = Image.new('RGBA', tuple(img_size), (0, 0, 0, 0))\n",
    "            draw = ImageDraw.Draw(overlay)\n",
    "            draw.rectangle([tuple(xy_min), tuple(xy_max)], fill=(100, 100, 100, 50), outline=whitesmoke, width=1)\n",
    "            guard_view = Image.alpha_composite(guard_view.convert('RGBA'), overlay).convert('RGB')\n",
    "        draw = ImageDraw.Draw(guard_view)    \n",
    "        draw.rectangle([tuple(xy_min), tuple(xy_max)], fill=None, outline=(180, 180, 165), width=1)\n",
    "    return guard_view"
   ]
  },
  {
   "cell_type": "code",
   "execution_count": 12,
   "metadata": {},
   "outputs": [],
   "source": [
    "def concatenate(im1, im2):\n",
    "    margin = 15\n",
    "    dst = Image.new('RGB', (im1.width, margin + 2 * im1.height), (255, 255, 255))\n",
    "    dst.paste(im1, (0, 0))\n",
    "    dst.paste(im2, (0, margin + im1.height))\n",
    "    return dst"
   ]
  },
  {
   "cell_type": "code",
   "execution_count": 13,
   "metadata": {},
   "outputs": [
    {
     "data": {
      "text/plain": [
       "array([[3.        , 0.        , 1.2       ],\n",
       "       [2.98571429, 0.        , 1.23928571],\n",
       "       [2.97142857, 0.        , 1.27857143],\n",
       "       [2.95714286, 0.        , 1.31785714],\n",
       "       [2.94285714, 0.        , 1.35714286],\n",
       "       [2.92857143, 0.        , 1.39642857],\n",
       "       [2.91428571, 0.        , 1.43571429],\n",
       "       [2.9       , 0.        , 1.475     ],\n",
       "       [2.88571429, 0.        , 1.51428571],\n",
       "       [2.87142857, 0.        , 1.55357143],\n",
       "       [2.85714286, 0.        , 1.59285714],\n",
       "       [2.84285714, 0.        , 1.63214286],\n",
       "       [2.82857143, 0.        , 1.67142857],\n",
       "       [2.81428571, 0.        , 1.71071429],\n",
       "       [2.8       , 0.        , 1.75      ]])"
      ]
     },
     "execution_count": 13,
     "metadata": {},
     "output_type": "execute_result"
    }
   ],
   "source": [
    "guard_positions = np.linspace((3, 0, 1.2), (2.8, 0, 1.75), 15)\n",
    "guard_positions"
   ]
  },
  {
   "cell_type": "code",
   "execution_count": 14,
   "metadata": {},
   "outputs": [],
   "source": [
    "guard_positions = np.vstack([guard_positions, np.linspace((2.8, 0, 1.75), (1.5, 0, 1.75), 40)])\n",
    "screen_positions = np.linspace(18, 12, len(guard_positions)).astype('int')"
   ]
  },
  {
   "cell_type": "code",
   "execution_count": 15,
   "metadata": {},
   "outputs": [],
   "source": [
    "images = []\n",
    "for guard_pos, screen_pos in zip(guard_positions, screen_positions):\n",
    "    im1 = create_view(guard_pos, dist_to_screen=screen_pos, project=False, img_size=(600, 300), focal=600)\n",
    "    im2 = create_view(guard_pos, dist_to_screen=screen_pos, project=True, img_size=(600, 300), focal=600)\n",
    "    dst = concatenate(im1, im2)\n",
    "    images.append(dst)\n"
   ]
  },
  {
   "cell_type": "code",
   "execution_count": 16,
   "metadata": {},
   "outputs": [],
   "source": [
    "images[0].save('kremlin-hallway.gif',\n",
    "               save_all=True, append_images=images[1:], optimize=False, duration=100, loop=0)"
   ]
  },
  {
   "cell_type": "code",
   "execution_count": 17,
   "metadata": {
    "scrolled": true
   },
   "outputs": [
    {
     "data": {
      "image/png": "[encoded data removed]",
      "text/plain": [
       "<PIL.Image.Image image mode=RGB size=800x400 at 0x7FFE4B6FFCA0>"
      ]
     },
     "execution_count": 17,
     "metadata": {},
     "output_type": "execute_result"
    }
   ],
   "source": [
    "create_view((3,0,1.5), dist_to_screen=12, project=True, img_size=(800, 400), focal=800)"
   ]
  },
  {
   "cell_type": "code",
   "execution_count": null,
   "metadata": {},
   "outputs": [],
   "source": []
  },
  {
   "cell_type": "code",
   "execution_count": null,
   "metadata": {},
   "outputs": [],
   "source": []
  }
 ],
 "metadata": {
  "kernelspec": {
   "display_name": "Python 3",
   "language": "python",
   "name": "python3"
  },
  "language_info": {
   "codemirror_mode": {
    "name": "ipython",
    "version": 3
   },
   "file_extension": ".py",
   "mimetype": "text/x-python",
   "name": "python",
   "nbconvert_exporter": "python",
   "pygments_lexer": "ipython3",
   "version": "3.8.3"
  }
 },
 "nbformat": 4,
 "nbformat_minor": 4
}
